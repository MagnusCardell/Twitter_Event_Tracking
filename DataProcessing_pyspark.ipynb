{
 "cells": [
  {
   "cell_type": "markdown",
   "metadata": {},
   "source": [
    "To run this code, you need the followin python packages\n",
    "* pyspark\n",
    "\n"
   ]
  },
  {
   "cell_type": "code",
   "execution_count": 59,
   "metadata": {},
   "outputs": [],
   "source": [
    "import sys\n",
    "import pyspark\n",
    "from pyspark import SparkContext, SparkConf, SQLContext\n",
    "from pyspark.sql.functions import col, size, explode\n",
    "\n",
    "import os\n",
    "os.environ[\"PYSPARK_PYTHON\"]=\"python3\"\n",
    "os.environ[\"PYSPARK_DRIVER_PYTHON\"]=\"python3\"\n",
    "\n",
    "class Tweet:\n",
    "    hashtag = []\n",
    "    location = []\n",
    "    time = \"\""
   ]
  },
  {
   "cell_type": "code",
   "execution_count": 60,
   "metadata": {},
   "outputs": [],
   "source": [
    "# create Spark context with Spark configuration\n",
    "conf = SparkConf().setAppName(\"Twitter data processing. Text file to RDD\")\n",
    "sc = SparkContext.getOrCreate(conf=conf)\n",
    "    \n",
    "sqlContext = SQLContext(sc)\n",
    "df = sqlContext.read.json(\"stream_output_oct24.json\")\n",
    "\n",
    "df2 = df.withColumn(\"hashtag\", explode(\"entities.hashtags\"))\n",
    "df2.createOrReplaceTempView(\"tweets\")"
   ]
  },
  {
   "cell_type": "code",
   "execution_count": 108,
   "metadata": {},
   "outputs": [],
   "source": [
    "#df.printSchema()\n",
    "#df.show(1)\n",
    "\n",
    "res = sqlContext.sql(\"SELECT created_at, hashtag, id, coordinates  from tweets where place IS NOT Null OR coordinates IS NOT Null or user.location IS NOT Null\")\n",
    "#rel.select(\"created_at\", \"place\", \"entities.hashtags\").show(2)\n",
    "\n",
    "\n",
    "rdd = res.rdd.map(lambda x: (x.hashtag.text, x))\n",
    "#print(rdd.take(1))\n",
    "groupRDD = rdd.groupByKey().map(lambda x : (x[0], list(x[1])))\n",
    "#print(rdd.take(10))\n",
    "pairs = groupRDD.filter(lambda x: len(x[1]) > 1)\n",
    "\n"
   ]
  },
  {
   "cell_type": "code",
   "execution_count": 107,
   "metadata": {},
   "outputs": [
    {
     "name": "stdout",
     "output_type": "stream",
     "text": [
      "[('StandWithHongKong', 1299), ('HongKong', 1211), ('StandUpForCatalonia', 382), ('Chinese', 339), ('StandWithHK', 335)]\n"
     ]
    }
   ],
   "source": [
    "pair2 = groupRDD.map(lambda x: (x[0], len(x[1]) )).sortBy(lambda s: s[1], 0)\n",
    "print(pair2.take(5))"
   ]
  }
 ],
 "metadata": {
  "kernelspec": {
   "display_name": "Python 3",
   "language": "python",
   "name": "python3"
  },
  "language_info": {
   "codemirror_mode": {
    "name": "ipython",
    "version": 3
   },
   "file_extension": ".py",
   "mimetype": "text/x-python",
   "name": "python",
   "nbconvert_exporter": "python",
   "pygments_lexer": "ipython3",
   "version": "3.6.8"
  }
 },
 "nbformat": 4,
 "nbformat_minor": 2
}
