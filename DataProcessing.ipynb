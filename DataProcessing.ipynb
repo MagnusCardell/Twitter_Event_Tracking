{
 "cells": [
  {
   "cell_type": "code",
   "execution_count": 6,
   "metadata": {},
   "outputs": [
    {
     "data": {
      "text/plain": [
       "defined class Tweet\n"
      ]
     },
     "metadata": {},
     "output_type": "display_data"
    }
   ],
   "source": [
    "import java.util.Date\n",
    "import org.apache.spark.sql.{DataFrame, Dataset, Row, SparkSession}\n",
    "import org.apache.spark.sql.functions._\n",
    "\n",
    "\n",
    "\n",
    "case class Tweet( hashtag: Array[String], location: String, time: Date )\n"
   ]
  },
  {
   "cell_type": "code",
   "execution_count": 27,
   "metadata": {},
   "outputs": [
    {
     "name": "stdout",
     "output_type": "stream",
     "text": [
      "root\n",
      " |-- contributors_enabled: boolean (nullable = true)\n",
      " |-- created_at: string (nullable = true)\n",
      " |-- default_profile: boolean (nullable = true)\n",
      " |-- default_profile_image: boolean (nullable = true)\n",
      " |-- description: string (nullable = true)\n",
      " |-- favourites_count: long (nullable = true)\n",
      " |-- follow_request_sent: string (nullable = true)\n",
      " |-- followers_count: long (nullable = true)\n",
      " |-- following: string (nullable = true)\n",
      " |-- friends_count: long (nullable = true)\n",
      " |-- geo_enabled: boolean (nullable = true)\n",
      " |-- id: long (nullable = true)\n",
      " |-- id_str: string (nullable = true)\n",
      " |-- is_translator: boolean (nullable = true)\n",
      " |-- lang: string (nullable = true)\n",
      " |-- listed_count: long (nullable = true)\n",
      " |-- location: string (nullable = true)\n",
      " |-- name: string (nullable = true)\n",
      " |-- notifications: string (nullable = true)\n",
      " |-- profile_background_color: string (nullable = true)\n",
      " |-- profile_background_image_url: string (nullable = true)\n",
      " |-- profile_background_image_url_https: string (nullable = true)\n",
      " |-- profile_background_tile: boolean (nullable = true)\n",
      " |-- profile_banner_url: string (nullable = true)\n",
      " |-- profile_image_url: string (nullable = true)\n",
      " |-- profile_image_url_https: string (nullable = true)\n",
      " |-- profile_link_color: string (nullable = true)\n",
      " |-- profile_sidebar_border_color: string (nullable = true)\n",
      " |-- profile_sidebar_fill_color: string (nullable = true)\n",
      " |-- profile_text_color: string (nullable = true)\n",
      " |-- profile_use_background_image: boolean (nullable = true)\n",
      " |-- protected: boolean (nullable = true)\n",
      " |-- screen_name: string (nullable = true)\n",
      " |-- statuses_count: long (nullable = true)\n",
      " |-- time_zone: string (nullable = true)\n",
      " |-- translator_type: string (nullable = true)\n",
      " |-- url: string (nullable = true)\n",
      " |-- utc_offset: string (nullable = true)\n",
      " |-- verified: boolean (nullable = true)\n",
      "\n",
      "+--------------------+--------------------+---------------+---------------------+--------------------+----------------+-------------------+---------------+---------+-------------+-----------+------------------+------------------+-------------+----+------------+--------+-------------+-------------+------------------------+----------------------------+----------------------------------+-----------------------+--------------------+--------------------+-----------------------+------------------+----------------------------+--------------------------+------------------+----------------------------+---------+---------------+--------------+---------+---------------+----+----------+--------+\n",
      "|contributors_enabled|          created_at|default_profile|default_profile_image|         description|favourites_count|follow_request_sent|followers_count|following|friends_count|geo_enabled|                id|            id_str|is_translator|lang|listed_count|location|         name|notifications|profile_background_color|profile_background_image_url|profile_background_image_url_https|profile_background_tile|  profile_banner_url|   profile_image_url|profile_image_url_https|profile_link_color|profile_sidebar_border_color|profile_sidebar_fill_color|profile_text_color|profile_use_background_image|protected|    screen_name|statuses_count|time_zone|translator_type| url|utc_offset|verified|\n",
      "+--------------------+--------------------+---------------+---------------------+--------------------+----------------+-------------------+---------------+---------+-------------+-----------+------------------+------------------+-------------+----+------------+--------+-------------+-------------+------------------------+----------------------------+----------------------------------+-----------------------+--------------------+--------------------+-----------------------+------------------+----------------------------+--------------------------+------------------+----------------------------+---------+---------------+--------------+---------+---------------+----+----------+--------+\n",
      "|               false|Sun Jan 15 05:32:...|          false|                false|                null|            3039|               null|            100|     null|          116|      false|         464395367|         464395367|        false|null|           6|    null|         Adam|         null|                  131516|        http://abs.twimg....|              https://abs.twimg...|                   true|https://pbs.twimg...|http://pbs.twimg....|   https://pbs.twimg...|            CC1E1E|                      FFFFFF|                    DDEEF6|            333333|                        true|    false|ifornicategirls|          2490|     null|           none|null|      null|   false|\n",
      "|               false|Sat May 12 14:33:...|           true|                false|‏‏‏‏‏‏‏‏‏‏دا قانو...|           50051|               null|           2459|     null|         1275|      false|995311094108491776|995311094108491776|        false|null|           0|    null|Abdullah khan|         null|                  F5F8FA|                            |                                  |                  false|                null|http://pbs.twimg....|   https://pbs.twimg...|            1DA1F2|                      C0DEED|                    DDEEF6|            333333|                        true|    false|    afghan65111|         24388|     null|           none|null|      null|   false|\n",
      "+--------------------+--------------------+---------------+---------------------+--------------------+----------------+-------------------+---------------+---------+-------------+-----------+------------------+------------------+-------------+----+------------+--------+-------------+-------------+------------------------+----------------------------+----------------------------------+-----------------------+--------------------+--------------------+-----------------------+------------------+----------------------------+--------------------------+------------------+----------------------------+---------+---------------+--------------+---------+---------------+----+----------+--------+\n",
      "\n"
     ]
    },
    {
     "data": {
      "text/plain": [
       "spark = org.apache.spark.sql.SparkSession@6b66f983\n",
       "fileName = stream_output.json\n",
       "df = [contributors_enabled: boolean, created_at: string ... 37 more fields]\n"
      ]
     },
     "metadata": {},
     "output_type": "display_data"
    },
    {
     "data": {
      "text/plain": [
       "[contributors_enabled: boolean, created_at: string ... 37 more fields]"
      ]
     },
     "execution_count": 27,
     "metadata": {},
     "output_type": "execute_result"
    }
   ],
   "source": [
    "val spark = SparkSession.builder.master(\"local[*]\").appName(\"SparkSQL\").getOrCreate()\n",
    "// Create a DataFrame based on the JSON results.\n",
    "val fileName = \"stream_output.json\"\n",
    "val df = spark.read.json(fileName)  \n",
    "df.printSchema()\n",
    "\n",
    "// print the first two rows\n",
    "df.limit(2).show()\n"
   ]
  }
 ],
 "metadata": {
  "kernelspec": {
   "display_name": "Spark - Scala",
   "language": "scala",
   "name": "spark_scala"
  },
  "language_info": {
   "codemirror_mode": "text/x-scala",
   "file_extension": ".scala",
   "mimetype": "text/x-scala",
   "name": "scala",
   "pygments_lexer": "scala",
   "version": "2.11.12"
  }
 },
 "nbformat": 4,
 "nbformat_minor": 2
}
