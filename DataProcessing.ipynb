{
 "cells": [
  {
   "cell_type": "code",
   "execution_count": 1,
   "metadata": {},
   "outputs": [
    {
     "data": {
      "text/plain": [
       "defined class Tweet\n"
      ]
     },
     "metadata": {},
     "output_type": "display_data"
    }
   ],
   "source": [
    "import java.util.Date\n",
    "import org.apache.spark.sql.{DataFrame, Dataset, Row, SparkSession}\n",
    "import org.apache.spark.sql.functions._\n",
    "\n",
    "\n",
    "\n",
    "case class Tweet( hashtag: Array[String], location: String, time: Date )\n"
   ]
  },
  {
   "cell_type": "code",
   "execution_count": 17,
   "metadata": {},
   "outputs": [
    {
     "data": {
      "text/plain": [
       "spark = org.apache.spark.sql.SparkSession@5c3281ee\n",
       "fileName = stream_output.json\n",
       "df = [contributors: string, coordinates: string ... 34 more fields]\n",
       "df2 = [contributors: string, coordinates: string ... 35 more fields]\n"
      ]
     },
     "metadata": {},
     "output_type": "display_data"
    },
    {
     "data": {
      "text/plain": [
       "[contributors: string, coordinates: string ... 35 more fields]"
      ]
     },
     "execution_count": 17,
     "metadata": {},
     "output_type": "execute_result"
    }
   ],
   "source": [
    "val spark = SparkSession.builder.master(\"local[*]\").appName(\"SparkSQL\").getOrCreate()\n",
    "//val ssc = new StreamingContext(conf, Seconds(1))\n",
    "//ssc.socketTextStream(\"localhost\", 9999)\n",
    "\n",
    "// Create a DataFrame based on the JSON results.\n",
    "val fileName = \"stream_output.json\"\n",
    "val df = spark.read.json(fileName)\n",
    "val df2 = df.withColumn(\"no_of_hashtags\", size($\"entities.hashtags\"))\n",
    "df2.createOrReplaceTempView(\"tweets\")"
   ]
  },
  {
   "cell_type": "code",
   "execution_count": 18,
   "metadata": {},
   "outputs": [
    {
     "name": "stdout",
     "output_type": "stream",
     "text": [
      "+----------+-----+--------+\n",
      "|created_at|place|hashtags|\n",
      "+----------+-----+--------+\n",
      "+----------+-----+--------+\n",
      "\n"
     ]
    },
    {
     "data": {
      "text/plain": [
       "rel = [contributors: string, coordinates: string ... 35 more fields]\n"
      ]
     },
     "metadata": {},
     "output_type": "display_data"
    },
    {
     "data": {
      "text/plain": [
       "[contributors: string, coordinates: string ... 35 more fields]"
      ]
     },
     "execution_count": 18,
     "metadata": {},
     "output_type": "execute_result"
    }
   ],
   "source": [
    "//df.printSchema()\n",
    "\n",
    "val rel = spark.sql(\"SELECT * from tweets WHERE tweets.place IS NOT NULL AND tweets.no_of_hashtags > 0\")\n",
    "rel.select(\"created_at\", \"place\", \"entities.hashtags\").show(2)"
   ]
  }
 ],
 "metadata": {
  "kernelspec": {
   "display_name": "Spark - Scala",
   "language": "scala",
   "name": "spark_scala"
  },
  "language_info": {
   "codemirror_mode": "text/x-scala",
   "file_extension": ".scala",
   "mimetype": "text/x-scala",
   "name": "scala",
   "pygments_lexer": "scala",
   "version": "2.11.12"
  }
 },
 "nbformat": 4,
 "nbformat_minor": 2
}
